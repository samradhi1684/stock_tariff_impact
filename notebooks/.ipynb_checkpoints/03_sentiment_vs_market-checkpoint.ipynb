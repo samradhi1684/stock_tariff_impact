{
 "cells": [
  {
   "cell_type": "code",
   "execution_count": 1,
   "id": "32cecab0-3ff0-42b8-975e-c95ec2d9db24",
   "metadata": {},
   "outputs": [
    {
     "data": {
      "text/html": [
       "<div>\n",
       "<style scoped>\n",
       "    .dataframe tbody tr th:only-of-type {\n",
       "        vertical-align: middle;\n",
       "    }\n",
       "\n",
       "    .dataframe tbody tr th {\n",
       "        vertical-align: top;\n",
       "    }\n",
       "\n",
       "    .dataframe thead th {\n",
       "        text-align: right;\n",
       "    }\n",
       "</style>\n",
       "<table border=\"1\" class=\"dataframe\">\n",
       "  <thead>\n",
       "    <tr style=\"text-align: right;\">\n",
       "      <th></th>\n",
       "      <th>Date</th>\n",
       "      <th>Event</th>\n",
       "    </tr>\n",
       "  </thead>\n",
       "  <tbody>\n",
       "    <tr>\n",
       "      <th>0</th>\n",
       "      <td>2025-02-15</td>\n",
       "      <td>Trump imposes 15% tariffs on Indian manufactur...</td>\n",
       "    </tr>\n",
       "    <tr>\n",
       "      <th>1</th>\n",
       "      <td>2025-03-10</td>\n",
       "      <td>India retaliates with tariffs on U.S. electron...</td>\n",
       "    </tr>\n",
       "    <tr>\n",
       "      <th>2</th>\n",
       "      <td>2025-04-01</td>\n",
       "      <td>Trump raises tariffs to 25% on all Indian impo...</td>\n",
       "    </tr>\n",
       "  </tbody>\n",
       "</table>\n",
       "</div>"
      ],
      "text/plain": [
       "        Date                                              Event\n",
       "0 2025-02-15  Trump imposes 15% tariffs on Indian manufactur...\n",
       "1 2025-03-10  India retaliates with tariffs on U.S. electron...\n",
       "2 2025-04-01  Trump raises tariffs to 25% on all Indian impo..."
      ]
     },
     "execution_count": 1,
     "metadata": {},
     "output_type": "execute_result"
    }
   ],
   "source": [
    "import pandas as pd\n",
    "\n",
    "# Load the events CSV (same as used before)\n",
    "tariffs = pd.read_csv(\"../data/tariff_events_2025.csv\", parse_dates=[\"Date\"])\n",
    "tariffs\n"
   ]
  },
  {
   "cell_type": "code",
   "execution_count": 2,
   "id": "f1d67a84-041c-49b7-ac4a-d61aafa2174d",
   "metadata": {},
   "outputs": [
    {
     "data": {
      "text/html": [
       "<div>\n",
       "<style scoped>\n",
       "    .dataframe tbody tr th:only-of-type {\n",
       "        vertical-align: middle;\n",
       "    }\n",
       "\n",
       "    .dataframe tbody tr th {\n",
       "        vertical-align: top;\n",
       "    }\n",
       "\n",
       "    .dataframe thead th {\n",
       "        text-align: right;\n",
       "    }\n",
       "</style>\n",
       "<table border=\"1\" class=\"dataframe\">\n",
       "  <thead>\n",
       "    <tr style=\"text-align: right;\">\n",
       "      <th></th>\n",
       "      <th>event</th>\n",
       "      <th>start</th>\n",
       "      <th>end</th>\n",
       "    </tr>\n",
       "  </thead>\n",
       "  <tbody>\n",
       "    <tr>\n",
       "      <th>0</th>\n",
       "      <td>Trump imposes 15% tariffs on Indian manufactur...</td>\n",
       "      <td>2025-02-12</td>\n",
       "      <td>2025-02-18</td>\n",
       "    </tr>\n",
       "    <tr>\n",
       "      <th>1</th>\n",
       "      <td>India retaliates with tariffs on U.S. electron...</td>\n",
       "      <td>2025-03-07</td>\n",
       "      <td>2025-03-13</td>\n",
       "    </tr>\n",
       "    <tr>\n",
       "      <th>2</th>\n",
       "      <td>Trump raises tariffs to 25% on all Indian impo...</td>\n",
       "      <td>2025-03-29</td>\n",
       "      <td>2025-04-04</td>\n",
       "    </tr>\n",
       "  </tbody>\n",
       "</table>\n",
       "</div>"
      ],
      "text/plain": [
       "                                               event      start        end\n",
       "0  Trump imposes 15% tariffs on Indian manufactur... 2025-02-12 2025-02-18\n",
       "1  India retaliates with tariffs on U.S. electron... 2025-03-07 2025-03-13\n",
       "2  Trump raises tariffs to 25% on all Indian impo... 2025-03-29 2025-04-04"
      ]
     },
     "execution_count": 2,
     "metadata": {},
     "output_type": "execute_result"
    }
   ],
   "source": [
    "event_windows = []\n",
    "for _, row in tariffs.iterrows():\n",
    "    event_date = row[\"Date\"]\n",
    "    window = {\n",
    "        \"event\": row[\"Event\"],\n",
    "        \"start\": event_date - pd.Timedelta(days=3),\n",
    "        \"end\": event_date + pd.Timedelta(days=3)\n",
    "    }\n",
    "    event_windows.append(window)\n",
    "\n",
    "pd.DataFrame(event_windows)\n"
   ]
  },
  {
   "cell_type": "code",
   "execution_count": 3,
   "id": "d0413c03-c5a8-46d5-ae72-0c92ffefcd97",
   "metadata": {},
   "outputs": [
    {
     "data": {
      "text/html": [
       "<div>\n",
       "<style scoped>\n",
       "    .dataframe tbody tr th:only-of-type {\n",
       "        vertical-align: middle;\n",
       "    }\n",
       "\n",
       "    .dataframe tbody tr th {\n",
       "        vertical-align: top;\n",
       "    }\n",
       "\n",
       "    .dataframe thead th {\n",
       "        text-align: right;\n",
       "    }\n",
       "</style>\n",
       "<table border=\"1\" class=\"dataframe\">\n",
       "  <thead>\n",
       "    <tr style=\"text-align: right;\">\n",
       "      <th></th>\n",
       "      <th>Date</th>\n",
       "      <th>Headline</th>\n",
       "    </tr>\n",
       "  </thead>\n",
       "  <tbody>\n",
       "    <tr>\n",
       "      <th>0</th>\n",
       "      <td>2025-02-13</td>\n",
       "      <td>US-India trade talks stall as tensions rise</td>\n",
       "    </tr>\n",
       "    <tr>\n",
       "      <th>1</th>\n",
       "      <td>2025-02-14</td>\n",
       "      <td>Trump hints at potential tariff increase on India</td>\n",
       "    </tr>\n",
       "    <tr>\n",
       "      <th>2</th>\n",
       "      <td>2025-02-15</td>\n",
       "      <td>Trump imposes 15% tariffs on Indian goods</td>\n",
       "    </tr>\n",
       "    <tr>\n",
       "      <th>3</th>\n",
       "      <td>2025-02-16</td>\n",
       "      <td>Investors react to US tariff move; markets vol...</td>\n",
       "    </tr>\n",
       "    <tr>\n",
       "      <th>4</th>\n",
       "      <td>2025-02-17</td>\n",
       "      <td>Experts warn of trade war escalation</td>\n",
       "    </tr>\n",
       "  </tbody>\n",
       "</table>\n",
       "</div>"
      ],
      "text/plain": [
       "        Date                                           Headline\n",
       "0 2025-02-13        US-India trade talks stall as tensions rise\n",
       "1 2025-02-14  Trump hints at potential tariff increase on India\n",
       "2 2025-02-15          Trump imposes 15% tariffs on Indian goods\n",
       "3 2025-02-16  Investors react to US tariff move; markets vol...\n",
       "4 2025-02-17               Experts warn of trade war escalation"
      ]
     },
     "execution_count": 3,
     "metadata": {},
     "output_type": "execute_result"
    }
   ],
   "source": [
    "# Load manually collected headlines\n",
    "headlines = pd.read_csv(\"../data/headlines.csv\", parse_dates=[\"Date\"])\n",
    "headlines.head()\n"
   ]
  },
  {
   "cell_type": "code",
   "execution_count": 4,
   "id": "e9ba0e1c-2de0-48f8-b6b6-667dac8bd5d6",
   "metadata": {},
   "outputs": [
    {
     "name": "stdout",
     "output_type": "stream",
     "text": [
      "Collecting vaderSentiment\n",
      "  Downloading vaderSentiment-3.3.2-py2.py3-none-any.whl.metadata (572 bytes)\n",
      "Requirement already satisfied: requests in c:\\users\\samra\\appdata\\local\\programs\\python\\python313\\lib\\site-packages (from vaderSentiment) (2.32.3)\n",
      "Requirement already satisfied: charset-normalizer<4,>=2 in c:\\users\\samra\\appdata\\local\\programs\\python\\python313\\lib\\site-packages (from requests->vaderSentiment) (3.4.1)\n",
      "Requirement already satisfied: idna<4,>=2.5 in c:\\users\\samra\\appdata\\local\\programs\\python\\python313\\lib\\site-packages (from requests->vaderSentiment) (3.10)\n",
      "Requirement already satisfied: urllib3<3,>=1.21.1 in c:\\users\\samra\\appdata\\local\\programs\\python\\python313\\lib\\site-packages (from requests->vaderSentiment) (2.4.0)\n",
      "Requirement already satisfied: certifi>=2017.4.17 in c:\\users\\samra\\appdata\\local\\programs\\python\\python313\\lib\\site-packages (from requests->vaderSentiment) (2025.4.26)\n",
      "Downloading vaderSentiment-3.3.2-py2.py3-none-any.whl (125 kB)\n",
      "Installing collected packages: vaderSentiment\n",
      "Successfully installed vaderSentiment-3.3.2\n"
     ]
    },
    {
     "name": "stderr",
     "output_type": "stream",
     "text": [
      "WARNING: Ignoring invalid distribution ~ (C:\\Users\\samra\\AppData\\Local\\Programs\\Python\\Python313\\Lib\\site-packages)\n",
      "WARNING: Ignoring invalid distribution ~inja2 (C:\\Users\\samra\\AppData\\Local\\Programs\\Python\\Python313\\Lib\\site-packages)\n",
      "WARNING: Ignoring invalid distribution ~upyter-core (C:\\Users\\samra\\AppData\\Local\\Programs\\Python\\Python313\\Lib\\site-packages)\n",
      "WARNING: Ignoring invalid distribution ~ (C:\\Users\\samra\\AppData\\Local\\Programs\\Python\\Python313\\Lib\\site-packages)\n",
      "WARNING: Ignoring invalid distribution ~inja2 (C:\\Users\\samra\\AppData\\Local\\Programs\\Python\\Python313\\Lib\\site-packages)\n",
      "WARNING: Ignoring invalid distribution ~upyter-core (C:\\Users\\samra\\AppData\\Local\\Programs\\Python\\Python313\\Lib\\site-packages)\n",
      "WARNING: Ignoring invalid distribution ~ (C:\\Users\\samra\\AppData\\Local\\Programs\\Python\\Python313\\Lib\\site-packages)\n",
      "WARNING: Ignoring invalid distribution ~inja2 (C:\\Users\\samra\\AppData\\Local\\Programs\\Python\\Python313\\Lib\\site-packages)\n",
      "WARNING: Ignoring invalid distribution ~upyter-core (C:\\Users\\samra\\AppData\\Local\\Programs\\Python\\Python313\\Lib\\site-packages)\n",
      "\n",
      "[notice] A new release of pip is available: 25.0.1 -> 25.1.1\n",
      "[notice] To update, run: python.exe -m pip install --upgrade pip\n"
     ]
    }
   ],
   "source": [
    "!pip install vaderSentiment\n"
   ]
  },
  {
   "cell_type": "code",
   "execution_count": 5,
   "id": "55020342-db6e-48d9-bb91-ccddadebb89a",
   "metadata": {},
   "outputs": [
    {
     "data": {
      "text/html": [
       "<div>\n",
       "<style scoped>\n",
       "    .dataframe tbody tr th:only-of-type {\n",
       "        vertical-align: middle;\n",
       "    }\n",
       "\n",
       "    .dataframe tbody tr th {\n",
       "        vertical-align: top;\n",
       "    }\n",
       "\n",
       "    .dataframe thead th {\n",
       "        text-align: right;\n",
       "    }\n",
       "</style>\n",
       "<table border=\"1\" class=\"dataframe\">\n",
       "  <thead>\n",
       "    <tr style=\"text-align: right;\">\n",
       "      <th></th>\n",
       "      <th>Date</th>\n",
       "      <th>Headline</th>\n",
       "      <th>Sentiment</th>\n",
       "    </tr>\n",
       "  </thead>\n",
       "  <tbody>\n",
       "    <tr>\n",
       "      <th>0</th>\n",
       "      <td>2025-02-13</td>\n",
       "      <td>US-India trade talks stall as tensions rise</td>\n",
       "      <td>-0.5423</td>\n",
       "    </tr>\n",
       "    <tr>\n",
       "      <th>1</th>\n",
       "      <td>2025-02-14</td>\n",
       "      <td>Trump hints at potential tariff increase on India</td>\n",
       "      <td>0.3182</td>\n",
       "    </tr>\n",
       "    <tr>\n",
       "      <th>2</th>\n",
       "      <td>2025-02-15</td>\n",
       "      <td>Trump imposes 15% tariffs on Indian goods</td>\n",
       "      <td>-0.1027</td>\n",
       "    </tr>\n",
       "    <tr>\n",
       "      <th>3</th>\n",
       "      <td>2025-02-16</td>\n",
       "      <td>Investors react to US tariff move; markets vol...</td>\n",
       "      <td>0.0000</td>\n",
       "    </tr>\n",
       "    <tr>\n",
       "      <th>4</th>\n",
       "      <td>2025-02-17</td>\n",
       "      <td>Experts warn of trade war escalation</td>\n",
       "      <td>-0.6486</td>\n",
       "    </tr>\n",
       "  </tbody>\n",
       "</table>\n",
       "</div>"
      ],
      "text/plain": [
       "        Date                                           Headline  Sentiment\n",
       "0 2025-02-13        US-India trade talks stall as tensions rise    -0.5423\n",
       "1 2025-02-14  Trump hints at potential tariff increase on India     0.3182\n",
       "2 2025-02-15          Trump imposes 15% tariffs on Indian goods    -0.1027\n",
       "3 2025-02-16  Investors react to US tariff move; markets vol...     0.0000\n",
       "4 2025-02-17               Experts warn of trade war escalation    -0.6486"
      ]
     },
     "execution_count": 5,
     "metadata": {},
     "output_type": "execute_result"
    }
   ],
   "source": [
    "from vaderSentiment.vaderSentiment import SentimentIntensityAnalyzer\n",
    "\n",
    "analyzer = SentimentIntensityAnalyzer()\n",
    "\n",
    "# Compute sentiment score for each headline\n",
    "headlines['Sentiment'] = headlines['Headline'].apply(lambda x: analyzer.polarity_scores(x)['compound'])\n",
    "headlines.head()\n"
   ]
  },
  {
   "cell_type": "code",
   "execution_count": 6,
   "id": "c7b5932b-2f4c-4e96-81a3-3bf0f8e97a40",
   "metadata": {},
   "outputs": [
    {
     "data": {
      "text/html": [
       "<div>\n",
       "<style scoped>\n",
       "    .dataframe tbody tr th:only-of-type {\n",
       "        vertical-align: middle;\n",
       "    }\n",
       "\n",
       "    .dataframe tbody tr th {\n",
       "        vertical-align: top;\n",
       "    }\n",
       "\n",
       "    .dataframe thead th {\n",
       "        text-align: right;\n",
       "    }\n",
       "</style>\n",
       "<table border=\"1\" class=\"dataframe\">\n",
       "  <thead>\n",
       "    <tr style=\"text-align: right;\">\n",
       "      <th></th>\n",
       "      <th>Event</th>\n",
       "      <th>Sentiment</th>\n",
       "    </tr>\n",
       "  </thead>\n",
       "  <tbody>\n",
       "    <tr>\n",
       "      <th>0</th>\n",
       "      <td>India retaliates with tariffs on U.S. electron...</td>\n",
       "      <td>-0.30295</td>\n",
       "    </tr>\n",
       "    <tr>\n",
       "      <th>1</th>\n",
       "      <td>Trump imposes 15% tariffs on Indian manufactur...</td>\n",
       "      <td>-0.19508</td>\n",
       "    </tr>\n",
       "    <tr>\n",
       "      <th>2</th>\n",
       "      <td>Trump raises tariffs to 25% on all Indian impo...</td>\n",
       "      <td>0.00000</td>\n",
       "    </tr>\n",
       "  </tbody>\n",
       "</table>\n",
       "</div>"
      ],
      "text/plain": [
       "                                               Event  Sentiment\n",
       "0  India retaliates with tariffs on U.S. electron...   -0.30295\n",
       "1  Trump imposes 15% tariffs on Indian manufactur...   -0.19508\n",
       "2  Trump raises tariffs to 25% on all Indian impo...    0.00000"
      ]
     },
     "execution_count": 6,
     "metadata": {},
     "output_type": "execute_result"
    }
   ],
   "source": [
    "# Tag each headline to its corresponding tariff event window\n",
    "def assign_event(date):\n",
    "    for window in event_windows:\n",
    "        if window['start'] <= date <= window['end']:\n",
    "            return window['event']\n",
    "    return None\n",
    "\n",
    "headlines['Event'] = headlines['Date'].apply(assign_event)\n",
    "\n",
    "# Drop unrelated headlines\n",
    "event_sentiment = headlines.dropna(subset=['Event'])\n",
    "\n",
    "# Average sentiment per event\n",
    "sentiment_summary = event_sentiment.groupby('Event')['Sentiment'].mean().reset_index()\n",
    "sentiment_summary\n"
   ]
  },
  {
   "cell_type": "code",
   "execution_count": 7,
   "id": "65e6981c-8f9a-4b47-a734-72893126bbed",
   "metadata": {},
   "outputs": [
    {
     "name": "stdout",
     "output_type": "stream",
     "text": [
      "                                               Event  Sentiment        Date  \\\n",
      "0  India retaliates with tariffs on U.S. electron...   -0.30295  2025-03-10   \n",
      "1  Trump raises tariffs to 25% on all Indian impo...    0.00000  2025-04-01   \n",
      "\n",
      "   Pre Avg  Post Avg  % Change  \n",
      "0  2354.41   2353.61     -0.03  \n",
      "1  2470.12   2416.37     -2.18  \n"
     ]
    }
   ],
   "source": [
    "import pandas as pd\n",
    "\n",
    "# Load price change data\n",
    "price_change_df = pd.read_csv(\"../data/price_changes.csv\")\n",
    "\n",
    "# Merge sentiment with price change on the 'Event' column\n",
    "final_df = pd.merge(sentiment_summary, price_change_df, on='Event')\n",
    "\n",
    "# Show final merged result\n",
    "print(final_df)\n"
   ]
  },
  {
   "cell_type": "code",
   "execution_count": 8,
   "id": "7502f495-7d1d-455f-9ab3-daa3833e5efc",
   "metadata": {},
   "outputs": [
    {
     "data": {
      "image/png": "[encoded data removed]",
      "text/plain": [
       "<Figure size 1000x600 with 1 Axes>"
      ]
     },
     "metadata": {},
     "output_type": "display_data"
    }
   ],
   "source": [
    "import matplotlib.pyplot as plt\n",
    "\n",
    "plt.figure(figsize=(10, 6))\n",
    "plt.scatter(final_df['Sentiment'], final_df['% Change'])\n",
    "plt.title(\"Sentiment vs. Market Reaction\")\n",
    "plt.xlabel(\"Average Sentiment (VADER Compound Score)\")\n",
    "plt.ylabel(\"% Change in NIFTY or Sector Price\")\n",
    "plt.grid(True)\n",
    "\n",
    "# Annotate points\n",
    "for i, row in final_df.iterrows():\n",
    "    plt.annotate(row['Event'][:20], (row['Sentiment'], row['% Change']), fontsize=8)\n",
    "\n",
    "plt.tight_layout()\n",
    "plt.show()\n"
   ]
  },
  {
   "cell_type": "code",
   "execution_count": null,
   "id": "125241d0-0060-4ef6-94a0-c76f6a7628aa",
   "metadata": {},
   "outputs": [],
   "source": []
  }
 ],
 "metadata": {
  "kernelspec": {
   "display_name": "Python 3 (ipykernel)",
   "language": "python",
   "name": "python3"
  },
  "language_info": {
   "codemirror_mode": {
    "name": "ipython",
    "version": 3
   },
   "file_extension": ".py",
   "mimetype": "text/x-python",
   "name": "python",
   "nbconvert_exporter": "python",
   "pygments_lexer": "ipython3",
   "version": "3.13.2"
  }
 },
 "nbformat": 4,
 "nbformat_minor": 5
}
