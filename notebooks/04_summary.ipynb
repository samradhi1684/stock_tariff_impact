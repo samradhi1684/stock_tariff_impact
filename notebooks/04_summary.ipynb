{
 "cells": [
  {
   "cell_type": "markdown",
   "id": "8a2d5743-ed52-498a-884f-54e5d2c3f30f",
   "metadata": {},
   "source": [
    "# Tariff Impact on NIFTY 50 Stocks: Summary & Insights Report\n",
    "This notebook summarizes our analysis of how trade tariff events impacted the Indian stock market (NIFTY 50), combining market data, sentiment analysis, and sector-wise trends.\n"
   ]
  },
  {
   "cell_type": "markdown",
   "id": "8ffd8ae5-ad4d-4fdf-addd-13a0e914d367",
   "metadata": {},
   "source": [
    "## 🔍 Overview of the Project\n",
    "This project investigates the effect of three simulated trade tariff events on Indian stocks (NIFTY 50), with three key notebooks:\n",
    "1. **Get Stock Data** – Downloaded stock prices using `yfinance` from Jan 1 to Apr 15, 2025.\n",
    "2. **Visualize Tariff Impact** – Analyzed stock behavior around tariff events.\n",
    "3. **Sentiment vs Market** – Examined if news sentiment aligned with market reactions.\n",
    "\n",
    "We also explored how this can power an interactive app to help investors make smarter post-event decisions.\n"
   ]
  },
  {
   "cell_type": "markdown",
   "id": "c9e19405-1f5e-42d8-b511-831fc08355e7",
   "metadata": {},
   "source": [
    "## 📊 Notebook 1: Getting Stock Data\n",
    "\n",
    "We used `yfinance` to fetch closing price data for all NIFTY 50 stocks between Jan 1 and Apr 15, 2025.\n",
    "\n",
    "✅ **What we did:**\n",
    "- Pulled data for all 50 tickers\n",
    "- Stored in a DataFrame indexed by date\n",
    "\n",
    "✅ **What we learned:**\n",
    "- Stock price data is fairly consistent, with no missing values.\n",
    "- This data forms the basis for event-based and sentiment-based analysis.\n",
    "\n",
    "Example:\n",
    "\n",
    "```python\n",
    "import yfinance as yf\n",
    "stocks = [\"RELIANCE.NS\", \"HDFCBANK.NS\", \"INFY.NS\", ...]\n",
    "data = yf.download(stocks, start=\"2025-01-01\", end=\"2025-04-15\")['Close']\n"
   ]
  },
  {
   "cell_type": "markdown",
   "id": "45df578e-12e8-4c70-a695-390cdf38a1ca",
   "metadata": {},
   "source": [
    "\n",
    "## 📈 Notebook 2: Visualizing Tariff Impact\n",
    "\n",
    "In this notebook, we explored how average stock prices shifted **before and after** tariff events.\n",
    "\n",
    "🗓️ **Events Considered:**\n",
    "- Feb 15: India imposes 15% tariff\n",
    "- Mar 10: India retaliates on US electronics\n",
    "- Apr 1: US raises tariffs on Indian imports\n",
    "\n",
    "### 🔍 Key Analysis:\n",
    "1. **Volatility Near Events:**  \n",
    "   - Used line plots to show NIFTY average trend near each tariff date.\n",
    "   - Found a **2.18% drop after Apr 1**.\n",
    "\n",
    "2. **Sector-Wise Trends:**\n",
    "   - Computed average pre/post price for each sector.\n",
    "   - Normalized trends showed that **IT sector dropped**, while **Energy remained stable**.\n",
    "\n",
    "Example insight:\n",
    "> After April 1 tariffs, **HDFC Bank** dropped from 2470.12 to 2416.37 (↓ 2.18%).\n",
    "\n",
    "This implies tariff events can significantly affect investor sentiment and market valuation.\n"
   ]
  },
  {
   "cell_type": "markdown",
   "id": "221ed838-0123-4a7c-be85-9104d2c294cb",
   "metadata": {},
   "source": [
    "## 🧠 Notebook 3: Sentiment vs Market Reaction\n",
    "\n",
    "We simulated 13 headlines and ran **VADER Sentiment Analysis** to get a compound score for each.\n",
    "\n",
    "Then, we merged sentiment scores with % price change post-event to examine correlation.\n",
    "\n",
    "### 📉 Key Visualization:\n",
    "- **Scatter Plot**: x-axis = sentiment, y-axis = % change\n",
    "- Plotted each event with annotation (e.g., “India retaliates...”)\n",
    "- Added trendline to reveal negative slope\n",
    "\n",
    "📌 **Observation:**\n",
    "> Events with **more negative sentiment** tended to cause a **larger price drop**, but some outliers existed.\n",
    "\n",
    "This proves partial alignment between news tone and market reaction.\n"
   ]
  },
  {
   "cell_type": "markdown",
   "id": "b0548a57-a1e0-4d27-8f2f-87f3143d31cb",
   "metadata": {},
   "source": [
    "## 🚀 Future Roadmap\n",
    "\n",
    "To take this project forward, we plan to build a **web app** using:\n",
    "\n",
    "- **Frontend:** Streamlit\n",
    "- **Backend:** FastAPI\n",
    "- **Analysis Engine:** This sentiment + sector impact data\n",
    "\n",
    "### 🔧 Planned Features:\n",
    "\n",
    "1. **Stock Impact Viewer**\n",
    "   - Input a stock (e.g. INFY)\n",
    "   - View how its price changed post-tariff\n",
    "\n",
    "2. **Sector Health Dashboard**\n",
    "   - Highlight which sectors were stable or volatile\n",
    "   - Color-coded heatmaps\n",
    "\n",
    "3. **Portfolio Advisor**\n",
    "   - Upload your stock portfolio (CSV)\n",
    "   - Get suggestions:\n",
    "     - 🟢 Keep: Stable or upward post-event\n",
    "     - 🔴 Consider selling: Downward trend post-tariff\n",
    "\n",
    "### 🤖 AI/ML Use (Optional Extension):\n",
    "- Predict next-day volatility based on news sentiment\n",
    "- Classify events into High/Medium/Low risk\n",
    "- Train regression models to estimate % change given sentiment score and sector\n"
   ]
  },
  {
   "cell_type": "markdown",
   "id": "ae940b6e-6d17-4be2-b17b-aabf5e3c1298",
   "metadata": {},
   "source": [
    "## ✅ Conclusion\n",
    "\n",
    "We successfully demonstrated how macroeconomic trade events (tariffs) can:\n",
    "- Affect individual stock prices\n",
    "- Influence sector trends\n",
    "- Align (partially) with news sentiment\n",
    "\n",
    "Our analysis lays the foundation for a useful tool for retail investors to understand and respond to economic shocks. The final app will help people make smarter investment decisions based on real data and sentiment trends.\n"
   ]
  },
  {
   "cell_type": "code",
   "execution_count": null,
   "id": "25e4efaf-52bb-4b4c-af31-0dbf256f5f44",
   "metadata": {},
   "outputs": [],
   "source": []
  }
 ],
 "metadata": {
  "kernelspec": {
   "display_name": "Python 3 (ipykernel)",
   "language": "python",
   "name": "python3"
  },
  "language_info": {
   "codemirror_mode": {
    "name": "ipython",
    "version": 3
   },
   "file_extension": ".py",
   "mimetype": "text/x-python",
   "name": "python",
   "nbconvert_exporter": "python",
   "pygments_lexer": "ipython3",
   "version": "3.13.2"
  }
 },
 "nbformat": 4,
 "nbformat_minor": 5
}
