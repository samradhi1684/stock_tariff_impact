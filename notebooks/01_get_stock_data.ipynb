{
 "cells": [
  {
   "cell_type": "code",
   "execution_count": 1,
   "id": "9806e81e-7768-4842-8283-10f04de7d1f2",
   "metadata": {},
   "outputs": [],
   "source": [
    "# 01_get_stock_data.ipynb\n",
    "\n",
    "# Import libraries\n",
    "import yfinance as yf\n",
    "import pandas as pd\n",
    "import os"
   ]
  },
  {
   "cell_type": "code",
   "execution_count": 2,
   "id": "0893c76e-66d5-48b1-878e-e7ce0355c3de",
   "metadata": {},
   "outputs": [],
   "source": [
    "# NIFTY 50 stock symbols\n",
    "nifty_50_stocks = [\n",
    "    'RELIANCE.NS', 'TCS.NS', 'HDFCBANK.NS', 'INFY.NS', 'ICICIBANK.NS',\n",
    "    'HINDUNILVR.NS', 'KOTAKBANK.NS', 'SBIN.NS', 'LT.NS', 'AXISBANK.NS',\n",
    "    'HCLTECH.NS', 'ITC.NS', 'BAJFINANCE.NS', 'BHARTIARTL.NS', 'ASIANPAINT.NS',\n",
    "    'MARUTI.NS', 'TITAN.NS', 'SUNPHARMA.NS', 'WIPRO.NS', 'ULTRACEMCO.NS',\n",
    "    'POWERGRID.NS', 'TATAMOTORS.NS', 'ADANIENT.NS', 'ONGC.NS', 'JSWSTEEL.NS',\n",
    "    'NTPC.NS', 'TATASTEEL.NS', 'GRASIM.NS', 'HDFCLIFE.NS', 'CIPLA.NS',\n",
    "    'BAJAJFINSV.NS', 'DIVISLAB.NS', 'BRITANNIA.NS', 'INDUSINDBK.NS', 'ADANIPORTS.NS',\n",
    "    'DRREDDY.NS', 'HEROMOTOCO.NS', 'BPCL.NS', 'TECHM.NS', 'EICHERMOT.NS',\n",
    "    'APOLLOHOSP.NS', 'M&M.NS', 'COALINDIA.NS', 'TATACONSUM.NS', 'HINDALCO.NS',\n",
    "    'BAJAJ-AUTO.NS', 'NESTLEIND.NS', 'SBILIFE.NS', 'ICICIPRULI.NS', 'UPL.NS'\n",
    "]"
   ]
  },
  {
   "cell_type": "code",
   "execution_count": 3,
   "id": "93728a2b-1182-439d-b52c-f5280b8c6412",
   "metadata": {},
   "outputs": [
    {
     "name": "stdout",
     "output_type": "stream",
     "text": [
      "YF.download() has changed argument auto_adjust default to True\n"
     ]
    },
    {
     "name": "stderr",
     "output_type": "stream",
     "text": [
      "[*********************100%***********************]  50 of 50 completed"
     ]
    },
    {
     "name": "stdout",
     "output_type": "stream",
     "text": [
      "Data downloaded and saved successfully!\n"
     ]
    },
    {
     "name": "stderr",
     "output_type": "stream",
     "text": [
      "\n"
     ]
    }
   ],
   "source": [
    "# Download stock data\n",
    "data = yf.download(nifty_50_stocks, start='2025-01-01', end='2025-04-28')\n",
    "\n",
    "# Save only Close prices\n",
    "close_prices = data['Close']\n",
    "\n",
    "# Make sure the \"data\" folder exists\n",
    "os.makedirs(\"../data\", exist_ok=True)\n",
    "\n",
    "# Save to CSV\n",
    "close_prices.to_csv(\"../data/nifty50_close_prices_2025.csv\")\n",
    "\n",
    "print(\"Data downloaded and saved successfully!\")"
   ]
  },
  {
   "cell_type": "code",
   "execution_count": null,
   "id": "7a3577a6-68ee-40a4-b57b-828cebadf47f",
   "metadata": {},
   "outputs": [],
   "source": []
  }
 ],
 "metadata": {
  "kernelspec": {
   "display_name": "Python 3 (ipykernel)",
   "language": "python",
   "name": "python3"
  },
  "language_info": {
   "codemirror_mode": {
    "name": "ipython",
    "version": 3
   },
   "file_extension": ".py",
   "mimetype": "text/x-python",
   "name": "python",
   "nbconvert_exporter": "python",
   "pygments_lexer": "ipython3",
   "version": "3.13.2"
  }
 },
 "nbformat": 4,
 "nbformat_minor": 5
}
